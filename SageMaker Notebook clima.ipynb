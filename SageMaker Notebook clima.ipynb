{
 "cells": [
  {
   "cell_type": "code",
   "execution_count": 81,
   "metadata": {
    "id": "rbTFAY3xO0PW"
   },
   "outputs": [
    {
     "data": {
      "text/html": [
       "<div>\n",
       "<style scoped>\n",
       "    .dataframe tbody tr th:only-of-type {\n",
       "        vertical-align: middle;\n",
       "    }\n",
       "\n",
       "    .dataframe tbody tr th {\n",
       "        vertical-align: top;\n",
       "    }\n",
       "\n",
       "    .dataframe thead th {\n",
       "        text-align: right;\n",
       "    }\n",
       "</style>\n",
       "<table border=\"1\" class=\"dataframe\">\n",
       "  <thead>\n",
       "    <tr style=\"text-align: right;\">\n",
       "      <th></th>\n",
       "      <th>date</th>\n",
       "      <th>heat_index</th>\n",
       "      <th>windSpeed</th>\n",
       "      <th>wind_chill</th>\n",
       "      <th>vapor_pressure</th>\n",
       "      <th>humidity</th>\n",
       "      <th>time</th>\n",
       "      <th>dew_point</th>\n",
       "      <th>temperature</th>\n",
       "    </tr>\n",
       "  </thead>\n",
       "  <tbody>\n",
       "    <tr>\n",
       "      <th>0</th>\n",
       "      <td>2024-10-12</td>\n",
       "      <td>39.1</td>\n",
       "      <td>1.57</td>\n",
       "      <td>21.44</td>\n",
       "      <td>6.0</td>\n",
       "      <td>85.75</td>\n",
       "      <td>00:00</td>\n",
       "      <td>12.65</td>\n",
       "      <td>15.5</td>\n",
       "    </tr>\n",
       "    <tr>\n",
       "      <th>1</th>\n",
       "      <td>2024-10-12</td>\n",
       "      <td>39.16</td>\n",
       "      <td>1.25</td>\n",
       "      <td>21.68</td>\n",
       "      <td>6.0</td>\n",
       "      <td>86.07</td>\n",
       "      <td>01:00</td>\n",
       "      <td>12.67</td>\n",
       "      <td>15.46</td>\n",
       "    </tr>\n",
       "    <tr>\n",
       "      <th>2</th>\n",
       "      <td>2024-10-12</td>\n",
       "      <td>39.06</td>\n",
       "      <td>0.68</td>\n",
       "      <td>22.24</td>\n",
       "      <td>6.0</td>\n",
       "      <td>85.38</td>\n",
       "      <td>02:00</td>\n",
       "      <td>12.66</td>\n",
       "      <td>15.58</td>\n",
       "    </tr>\n",
       "    <tr>\n",
       "      <th>3</th>\n",
       "      <td>2024-10-12</td>\n",
       "      <td>38.89</td>\n",
       "      <td>1.01</td>\n",
       "      <td>22.04</td>\n",
       "      <td>6.0</td>\n",
       "      <td>84.55</td>\n",
       "      <td>03:00</td>\n",
       "      <td>12.6</td>\n",
       "      <td>15.69</td>\n",
       "    </tr>\n",
       "    <tr>\n",
       "      <th>4</th>\n",
       "      <td>2024-10-12</td>\n",
       "      <td>38.8</td>\n",
       "      <td>1.07</td>\n",
       "      <td>21.93</td>\n",
       "      <td>5.0</td>\n",
       "      <td>84.52</td>\n",
       "      <td>04:00</td>\n",
       "      <td>12.51</td>\n",
       "      <td>15.61</td>\n",
       "    </tr>\n",
       "    <tr>\n",
       "      <th>5</th>\n",
       "      <td>2024-10-12</td>\n",
       "      <td>39.04</td>\n",
       "      <td>1.06</td>\n",
       "      <td>21.74</td>\n",
       "      <td>6.0</td>\n",
       "      <td>86.13</td>\n",
       "      <td>05:00</td>\n",
       "      <td>12.55</td>\n",
       "      <td>15.32</td>\n",
       "    </tr>\n",
       "    <tr>\n",
       "      <th>6</th>\n",
       "      <td>2024-10-12</td>\n",
       "      <td>39.22</td>\n",
       "      <td>0.63</td>\n",
       "      <td>21.88</td>\n",
       "      <td>5.0</td>\n",
       "      <td>87.73</td>\n",
       "      <td>06:00</td>\n",
       "      <td>12.52</td>\n",
       "      <td>14.97</td>\n",
       "    </tr>\n",
       "    <tr>\n",
       "      <th>7</th>\n",
       "      <td>2024-10-12</td>\n",
       "      <td>39.51</td>\n",
       "      <td>0.21</td>\n",
       "      <td>22.0</td>\n",
       "      <td>5.0</td>\n",
       "      <td>89.75</td>\n",
       "      <td>07:00</td>\n",
       "      <td>12.54</td>\n",
       "      <td>14.59</td>\n",
       "    </tr>\n",
       "    <tr>\n",
       "      <th>8</th>\n",
       "      <td>2024-10-12</td>\n",
       "      <td>40.01</td>\n",
       "      <td>0.23</td>\n",
       "      <td>21.68</td>\n",
       "      <td>5.0</td>\n",
       "      <td>92.73</td>\n",
       "      <td>08:00</td>\n",
       "      <td>12.66</td>\n",
       "      <td>14.11</td>\n",
       "    </tr>\n",
       "    <tr>\n",
       "      <th>9</th>\n",
       "      <td>2024-10-12</td>\n",
       "      <td>40.38</td>\n",
       "      <td>0.9</td>\n",
       "      <td>20.73</td>\n",
       "      <td>5.0</td>\n",
       "      <td>95.3</td>\n",
       "      <td>09:00</td>\n",
       "      <td>12.69</td>\n",
       "      <td>13.63</td>\n",
       "    </tr>\n",
       "  </tbody>\n",
       "</table>\n",
       "</div>"
      ],
      "text/plain": [
       "         date heat_index windSpeed wind_chill vapor_pressure humidity   time dew_point temperature\n",
       "0  2024-10-12       39.1      1.57      21.44            6.0    85.75  00:00     12.65        15.5\n",
       "1  2024-10-12      39.16      1.25      21.68            6.0    86.07  01:00     12.67       15.46\n",
       "2  2024-10-12      39.06      0.68      22.24            6.0    85.38  02:00     12.66       15.58\n",
       "3  2024-10-12      38.89      1.01      22.04            6.0    84.55  03:00      12.6       15.69\n",
       "4  2024-10-12       38.8      1.07      21.93            5.0    84.52  04:00     12.51       15.61\n",
       "5  2024-10-12      39.04      1.06      21.74            6.0    86.13  05:00     12.55       15.32\n",
       "6  2024-10-12      39.22      0.63      21.88            5.0    87.73  06:00     12.52       14.97\n",
       "7  2024-10-12      39.51      0.21       22.0            5.0    89.75  07:00     12.54       14.59\n",
       "8  2024-10-12      40.01      0.23      21.68            5.0    92.73  08:00     12.66       14.11\n",
       "9  2024-10-12      40.38       0.9      20.73            5.0     95.3  09:00     12.69       13.63"
      ]
     },
     "execution_count": 81,
     "metadata": {},
     "output_type": "execute_result"
    }
   ],
   "source": [
    "import boto3\n",
    "import pandas as pd\n",
    "from sklearn.model_selection import train_test_split\n",
    "from sklearn.preprocessing import StandardScaler\n",
    "from sklearn.linear_model import LinearRegression\n",
    "\n",
    "dynamodb = boto3.resource('dynamodb')\n",
    "table = dynamodb.Table('DatosClimaticosCalculations')\n",
    "\n",
    "def scan_table(table):\n",
    "    response = table.scan()\n",
    "    data = response['Items']\n",
    "    while 'LastEvaluatedKey' in response:\n",
    "        response = table.scan(ExclusiveStartKey=response['LastEvaluatedKey'])\n",
    "        data.extend(response['Items'])\n",
    "    return data\n",
    "\n",
    "items = scan_table(table)\n",
    "df = pd.DataFrame(items)\n",
    "df.head(10)"
   ]
  },
  {
   "cell_type": "code",
   "execution_count": 82,
   "metadata": {
    "id": "7H8BPB3oO13d"
   },
   "outputs": [],
   "source": [
    "X = df[['heat_index', 'windSpeed', 'wind_chill', 'vapor_pressure', 'humidity', 'dew_point']]\n",
    "y = df['temperature']\n",
    "\n",
    "scaler = StandardScaler()\n",
    "X_scaled = scaler.fit_transform(X)"
   ]
  },
  {
   "cell_type": "code",
   "execution_count": 83,
   "metadata": {},
   "outputs": [
    {
     "name": "stdout",
     "output_type": "stream",
     "text": [
      "  heat_index windSpeed wind_chill vapor_pressure humidity dew_point\n",
      "0       39.1      1.57      21.44            6.0    85.75     12.65\n",
      "1      39.16      1.25      21.68            6.0    86.07     12.67\n",
      "2      39.06      0.68      22.24            6.0    85.38     12.66\n",
      "3      38.89      1.01      22.04            6.0    84.55      12.6\n",
      "4       38.8      1.07      21.93            5.0    84.52     12.51\n",
      "0     15.5\n",
      "1    15.46\n",
      "2    15.58\n",
      "3    15.69\n",
      "4    15.61\n",
      "Name: temperature, dtype: object\n"
     ]
    }
   ],
   "source": [
    "y = df.iloc[:, 8]\n",
    "X = df.iloc[:, [1, 2, 3, 4, 5, 7]]\n",
    "\n",
    "print(X.head())\n",
    "print(y.head())"
   ]
  },
  {
   "cell_type": "code",
   "execution_count": 84,
   "metadata": {},
   "outputs": [
    {
     "name": "stdout",
     "output_type": "stream",
     "text": [
      "  heat_index windSpeed wind_chill vapor_pressure humidity dew_point temperature\n",
      "0       39.1      1.57      21.44            6.0    85.75     12.65        15.5\n",
      "1      39.16      1.25      21.68            6.0    86.07     12.67       15.46\n",
      "2      39.06      0.68      22.24            6.0    85.38     12.66       15.58\n",
      "3      38.89      1.01      22.04            6.0    84.55      12.6       15.69\n",
      "4       38.8      1.07      21.93            5.0    84.52     12.51       15.61\n"
     ]
    }
   ],
   "source": [
    "# Configurar Pandas para mostrar todas las columnas sin truncar y alineadas\n",
    "pd.set_option('display.max_columns', None)\n",
    "pd.set_option('display.width', 1000)\n",
    "\n",
    "# Seleccionar las columnas con .iloc\n",
    "y = df.iloc[:, 8]\n",
    "X = df.iloc[:, [1, 2, 3, 4, 5, 7]]\n",
    "\n",
    "# Combinar X e y en un solo DataFrame para imprimir juntos\n",
    "combined = pd.concat([X, y], axis=1)\n",
    "\n",
    "# Imprimir las primeras filas del DataFrame combinado\n",
    "print(combined.head())"
   ]
  },
  {
   "cell_type": "code",
   "execution_count": 85,
   "metadata": {
    "id": "14UL_3AlPFp0"
   },
   "outputs": [
    {
     "name": "stdout",
     "output_type": "stream",
     "text": [
      "[21.10204936 20.47267149 15.60753856 17.76869153 17.86493817 16.17316692\n",
      " 20.43014537 13.360313   15.37327653 13.66584461 20.79170571 15.71066028\n",
      " 14.01950157 15.86405739 18.3181768  18.76088113 16.20208535 15.50180849\n",
      " 17.24126708 14.82733036 17.21251435 21.61040647 16.31847037 20.79934397\n",
      " 16.60161179 15.09880809 19.67678426 20.18022581 16.56311671 19.45005899\n",
      " 18.0026794  16.5103556  18.08477849 20.79113264 16.90889258 18.09034726\n",
      " 16.56104227]\n"
     ]
    }
   ],
   "source": [
    "X_train, X_test, y_train, y_test = train_test_split(X_scaled, y, test_size=0.3, random_state=42)\n",
    "\n",
    "model = LinearRegression()\n",
    "model.fit(X_train, y_train)\n",
    "y_pred = model.predict(X_test)\n",
    "print(y_pred)"
   ]
  },
  {
   "cell_type": "code",
   "execution_count": 86,
   "metadata": {},
   "outputs": [
    {
     "name": "stdout",
     "output_type": "stream",
     "text": [
      "44      21.1\n",
      "47     20.47\n",
      "4      15.61\n",
      "55     17.77\n",
      "26     17.86\n",
      "64     16.17\n",
      "73     20.43\n",
      "10     13.36\n",
      "40     15.37\n",
      "108    13.67\n",
      "18     20.79\n",
      "62     15.71\n",
      "11     14.02\n",
      "36     15.86\n",
      "90     18.32\n",
      "118    18.76\n",
      "110     16.2\n",
      "0       15.5\n",
      "89     17.24\n",
      "104    14.83\n",
      "65     17.21\n",
      "45     21.61\n",
      "31     16.32\n",
      "70      20.8\n",
      "42      16.6\n",
      "12      15.1\n",
      "15     19.68\n",
      "115    20.18\n",
      "76     16.56\n",
      "98     19.45\n",
      "24      18.0\n",
      "78     16.51\n",
      "22     18.08\n",
      "97     20.79\n",
      "56     16.91\n",
      "111    18.09\n",
      "30     16.56\n",
      "Name: temperature, dtype: object\n"
     ]
    }
   ],
   "source": [
    "print(y_test)"
   ]
  },
  {
   "cell_type": "code",
   "execution_count": 87,
   "metadata": {},
   "outputs": [
    {
     "name": "stdout",
     "output_type": "stream",
     "text": [
      "Error Cuadrático Medio (MSE): 0.00\n",
      "Raíz del Error Cuadrático Medio (RMSE): 0.00\n",
      "Coeficiente de Determinación (R²): 1.00\n"
     ]
    }
   ],
   "source": [
    "from sklearn.metrics import mean_squared_error, r2_score\n",
    "import numpy as np\n",
    "\n",
    "mse = mean_squared_error(y_test, y_pred)\n",
    "rmse = np.sqrt(mse)\n",
    "r2 = r2_score(y_test, y_pred)\n",
    "\n",
    "print(f'Error Cuadrático Medio (MSE): {mse:.2f}')\n",
    "print(f'Raíz del Error Cuadrático Medio (RMSE): {rmse:.2f}')\n",
    "print(f'Coeficiente de Determinación (R²): {r2:.2f}')"
   ]
  },
  {
   "cell_type": "code",
   "execution_count": 88,
   "metadata": {},
   "outputs": [
    {
     "name": "stdout",
     "output_type": "stream",
     "text": [
      "  Valores Reales  Valores Predichos\n",
      "0           21.1          21.102049\n",
      "1          20.47          20.472671\n",
      "2          15.61          15.607539\n",
      "3          17.77          17.768692\n",
      "4          17.86          17.864938\n",
      "5          16.17          16.173167\n",
      "6          20.43          20.430145\n",
      "7          13.36          13.360313\n",
      "8          15.37          15.373277\n",
      "9          13.67          13.665845\n"
     ]
    }
   ],
   "source": [
    "comparison_df = pd.DataFrame({\n",
    "    'Valores Reales': y_test.reset_index(drop=True),\n",
    "    'Valores Predichos': y_pred\n",
    "})\n",
    "\n",
    "print(comparison_df.head(10))  # Muestra las primeras 10 filas"
   ]
  },
  {
   "cell_type": "code",
   "execution_count": 89,
   "metadata": {},
   "outputs": [
    {
     "name": "stdout",
     "output_type": "stream",
     "text": [
      "                 hora  Valores Predichos\n",
      "0 2024-10-17 00:00:00          21.102049\n",
      "1 2024-10-17 03:00:00          20.472671\n",
      "2 2024-10-17 06:00:00          15.607539\n",
      "3 2024-10-17 09:00:00          17.768692\n",
      "4 2024-10-17 12:00:00          17.864938\n",
      "5 2024-10-17 15:00:00          16.173167\n",
      "6 2024-10-17 18:00:00          20.430145\n",
      "7 2024-10-17 21:00:00          13.360313\n",
      "8 2024-10-18 00:00:00          15.373277\n",
      "9 2024-10-18 03:00:00          13.665845\n",
      "Archivo predicciones_temperatura_completas-prueba3meses.csv guardado en el bucket temp-predicha\n"
     ]
    },
    {
     "name": "stderr",
     "output_type": "stream",
     "text": [
      "/tmp/ipykernel_111/3711675366.py:7: FutureWarning: 'H' is deprecated and will be removed in a future version, please use 'h' instead.\n",
      "  'hora': pd.date_range(start=\"2024-10-17 00:00\", periods=len(y_test), freq='3H'),\n",
      "/tmp/ipykernel_111/3711675366.py:20: FutureWarning: 'H' is deprecated and will be removed in a future version, please use 'h' instead.\n",
      "  horas_prediccion = pd.date_range(start=fecha_inicio, end=fecha_fin, freq='3H')[len(y_test):]\n"
     ]
    }
   ],
   "source": [
    "import boto3\n",
    "import pandas as pd\n",
    "from io import StringIO\n",
    "\n",
    "# Crear el DataFrame de comparación inicial con las primeras predicciones obtenidas\n",
    "comparison_df = pd.DataFrame({\n",
    "    'hora': pd.date_range(start=\"2024-10-17 00:00\", periods=len(y_test), freq='3H'),\n",
    "    'Valores Reales': y_test.reset_index(drop=True),\n",
    "    'Valores Predichos': y_pred\n",
    "})\n",
    "\n",
    "# Configurar el DataFrame para predicciones futuras con variabilidad\n",
    "future_predictions = []\n",
    "ultima_prediccion = y_pred[-1]  # Tomamos la última predicción como punto de partida\n",
    "patron_ciclo = y_pred[-24:]  # Usar las últimas 24 predicciones para crear un patrón de variabilidad\n",
    "\n",
    "# Generar predicciones futuras sin repetición estática\n",
    "fecha_inicio = \"2024-10-17 00:00\"\n",
    "fecha_fin = \"2025-01-17 21:00\"\n",
    "horas_prediccion = pd.date_range(start=fecha_inicio, end=fecha_fin, freq='3H')[len(y_test):]\n",
    "\n",
    "# Iterar sobre las horas de predicción\n",
    "for idx, hora in enumerate(horas_prediccion):\n",
    "    # Utilizar la predicción en el patrón cíclico para evitar repetición\n",
    "    prediccion_temperatura = patron_ciclo[idx % len(patron_ciclo)]\n",
    "    \n",
    "    # Agregar la predicción al DataFrame\n",
    "    future_predictions.append({\n",
    "        'hora': hora,\n",
    "        'Valores Predichos': round(prediccion_temperatura, 2)\n",
    "    })\n",
    "    \n",
    "    # Actualizar la última predicción\n",
    "    ultima_prediccion = prediccion_temperatura\n",
    "\n",
    "# Convertir las predicciones futuras en DataFrame\n",
    "future_predictions_df = pd.DataFrame(future_predictions)\n",
    "final_predictions_df['Valores Predichos'] = final_predictions_df['Valores Predichos'].round(2)\n",
    "\n",
    "# Concatenar las predicciones reales y las futuras\n",
    "final_predictions_df = pd.concat([comparison_df[['hora', 'Valores Predichos']], future_predictions_df], ignore_index=True)\n",
    "\n",
    "# Mostrar el DataFrame final con todas las predicciones\n",
    "print(final_predictions_df.head(10))\n",
    "\n",
    "# Guardar el DataFrame final en un archivo CSV y subirlo a S3\n",
    "csv_buffer = StringIO()\n",
    "final_predictions_df.to_csv(csv_buffer, index=False)\n",
    "\n",
    "# Especificar el nombre del bucket y el nombre del archivo en S3\n",
    "bucket_name = 'temp-predicha'\n",
    "file_name = 'predicciones_temperatura_completas-prueba3meses.csv'\n",
    "\n",
    "# Conectar con S3 y subir el archivo\n",
    "s3_resource = boto3.resource('s3')\n",
    "s3_resource.Object(bucket_name, file_name).put(Body=csv_buffer.getvalue())\n",
    "\n",
    "print(f'Archivo {file_name} guardado en el bucket {bucket_name}')"
   ]
  },
  {
   "cell_type": "code",
   "execution_count": null,
   "metadata": {},
   "outputs": [],
   "source": []
  }
 ],
 "metadata": {
  "colab": {
   "provenance": []
  },
  "kernelspec": {
   "display_name": "Python 3 (ipykernel)",
   "language": "python",
   "name": "python3"
  },
  "language_info": {
   "codemirror_mode": {
    "name": "ipython",
    "version": 3
   },
   "file_extension": ".py",
   "mimetype": "text/x-python",
   "name": "python",
   "nbconvert_exporter": "python",
   "pygments_lexer": "ipython3",
   "version": "3.11.10"
  }
 },
 "nbformat": 4,
 "nbformat_minor": 4
}
